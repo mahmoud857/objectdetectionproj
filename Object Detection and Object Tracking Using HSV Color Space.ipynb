{
 "cells": [
  {
   "cell_type": "markdown",
   "metadata": {},
   "source": [
    "# HSV WITHOUT TRACHBAR"
   ]
  },
  {
   "cell_type": "code",
   "execution_count": 2,
   "metadata": {},
   "outputs": [],
   "source": [
    "import numpy as np \n",
    "import pandas as pd \n",
    "import cv2\n"
   ]
  },
  {
   "cell_type": "code",
   "execution_count": 5,
   "metadata": {},
   "outputs": [],
   "source": [
    "while (True):\n",
    "    img=cv2.imread(\"OIP.jpg\")\n",
    "    HSV=cv2.cvtColor(img,cv2.COLOR_BGR2HSV)\n",
    "    l_b=np.array([110,50,50])\n",
    "    u_b=np.array([130,255,255])\n",
    "    mask=cv2.inRange(HSV,l_b,u_b)\n",
    "    res=cv2.bitwise_and(img,img,mask=mask)\n",
    "    cv2.imshow(\"img\",img)\n",
    "    cv2.imshow(\"mask\",mask)\n",
    "    cv2.imshow(\"res\",res)\n",
    "    k=cv2.waitKey(1)\n",
    "    if k==ord('q'):\n",
    "        break\n",
    "cv2.destroyAllWindows()    "
   ]
  },
  {
   "cell_type": "markdown",
   "metadata": {},
   "source": [
    "# HSV WITH TRACHBAR"
   ]
  },
  {
   "cell_type": "code",
   "execution_count": 1,
   "metadata": {},
   "outputs": [],
   "source": [
    "import numpy as np \n",
    "import pandas as pd \n",
    "import cv2\n"
   ]
  },
  {
   "cell_type": "code",
   "execution_count": 2,
   "metadata": {},
   "outputs": [],
   "source": [
    "def nothing(x):\n",
    "    pass\n",
    "\n",
    "cv2.namedWindow(\"img\")\n",
    "cv2.createTrackbar(\"l_h\",\"img\",0,255,nothing)\n",
    "cv2.createTrackbar(\"l_s\",\"img\",0,255,nothing)\n",
    "cv2.createTrackbar(\"l_v\",\"img\",0,255,nothing)\n",
    "cv2.createTrackbar(\"u_h\",\"img\",255,255,nothing)\n",
    "cv2.createTrackbar(\"u_s\",\"img\",255,255,nothing)\n",
    "cv2.createTrackbar(\"u_v\",\"img\",255,255,nothing)\n",
    "\n",
    "\n",
    "while (True):\n",
    "    \n",
    "    img=cv2.imread(\"OIP.jpg\")\n",
    "    HSV=cv2.cvtColor(img,cv2.COLOR_BGR2HSV)\n",
    "    l_h=cv2.getTrackbarPos(\"l_h\",\"img\")\n",
    "    l_s=cv2.getTrackbarPos(\"l_h\",\"img\")\n",
    "    l_v=cv2.getTrackbarPos(\"l_h\",\"img\")\n",
    "    u_h=cv2.getTrackbarPos(\"u_h\",\"img\")\n",
    "    u_s=cv2.getTrackbarPos(\"u_s\",\"img\")\n",
    "    u_v=cv2.getTrackbarPos(\"u_v\",\"img\")\n",
    "\n",
    "    \n",
    "    l_b=np.array([l_h,l_s,l_v])\n",
    "    u_b=np.array([u_h,u_s,u_v])\n",
    "    mask=cv2.inRange(HSV,l_b,u_b)\n",
    "    res=cv2.bitwise_and(img,img,mask=mask)\n",
    "    cv2.imshow(\"img\",img)\n",
    "    cv2.imshow(\"mask\",mask)\n",
    "    cv2.imshow(\"res\",res)\n",
    "    k=cv2.waitKey(1)\n",
    "    if k==ord('q'):\n",
    "        break\n",
    "cv2.destroyAllWindows()    "
   ]
  },
  {
   "cell_type": "markdown",
   "metadata": {},
   "source": [
    "# HSV WITH VIDEO"
   ]
  },
  {
   "cell_type": "code",
   "execution_count": 1,
   "metadata": {},
   "outputs": [],
   "source": [
    "import numpy as np \n",
    "import pandas as pd \n",
    "import cv2\n"
   ]
  },
  {
   "cell_type": "code",
   "execution_count": null,
   "metadata": {},
   "outputs": [],
   "source": [
    "def nothing(x):\n",
    "    pass\n",
    "cap=cv2.VideoCapture(0)\n",
    "cv2.namedWindow(\"img\")\n",
    "cv2.createTrackbar(\"l_h\",\"img\",0,255,nothing)\n",
    "cv2.createTrackbar(\"l_s\",\"img\",0,255,nothing)\n",
    "cv2.createTrackbar(\"l_v\",\"img\",0,255,nothing)\n",
    "cv2.createTrackbar(\"u_h\",\"img\",255,255,nothing)\n",
    "cv2.createTrackbar(\"u_s\",\"img\",255,255,nothing)\n",
    "cv2.createTrackbar(\"u_v\",\"img\",255,255,nothing)\n",
    "\n",
    "\n",
    "while (True):\n",
    "    \n",
    "    #img=cv2.imread(\"OIP.jpg\")\n",
    "    _,frame=cap.read()\n",
    "    HSV=cv2.cvtColor(frame,cv2.COLOR_BGR2HSV)\n",
    "    l_h=cv2.getTrackbarPos(\"l_h\",\"img\")\n",
    "    l_s=cv2.getTrackbarPos(\"l_h\",\"img\")\n",
    "    l_v=cv2.getTrackbarPos(\"l_h\",\"img\")\n",
    "    u_h=cv2.getTrackbarPos(\"u_h\",\"img\")\n",
    "    u_s=cv2.getTrackbarPos(\"u_s\",\"img\")\n",
    "    u_v=cv2.getTrackbarPos(\"u_v\",\"img\")\n",
    "\n",
    "    \n",
    "    l_b=np.array([l_h,l_s,l_v])\n",
    "    u_b=np.array([u_h,u_s,u_v])\n",
    "    mask=cv2.inRange(HSV,l_b,u_b)\n",
    "    res=cv2.bitwise_and(frame,frame,mask=mask)\n",
    "    cv2.imshow(\"img\",frame)\n",
    "    cv2.imshow(\"mask\",mask)\n",
    "    cv2.imshow(\"res\",res)\n",
    "    k=cv2.waitKey(1)\n",
    "    if k==ord('q'):\n",
    "        break\n",
    "cap.release()        \n",
    "cv2.destroyAllWindows()    "
   ]
  },
  {
   "cell_type": "code",
   "execution_count": null,
   "metadata": {},
   "outputs": [],
   "source": []
  },
  {
   "cell_type": "code",
   "execution_count": null,
   "metadata": {},
   "outputs": [],
   "source": []
  }
 ],
 "metadata": {
  "kernelspec": {
   "display_name": "Python 3",
   "language": "python",
   "name": "python3"
  },
  "language_info": {
   "codemirror_mode": {
    "name": "ipython",
    "version": 3
   },
   "file_extension": ".py",
   "mimetype": "text/x-python",
   "name": "python",
   "nbconvert_exporter": "python",
   "pygments_lexer": "ipython3",
   "version": "3.8.5"
  }
 },
 "nbformat": 4,
 "nbformat_minor": 4
}
